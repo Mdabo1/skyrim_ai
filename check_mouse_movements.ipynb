{
 "cells": [
  {
   "cell_type": "code",
   "execution_count": 2,
   "metadata": {},
   "outputs": [],
   "source": [
    "import pandas as pd\n",
    "import numpy as np"
   ]
  },
  {
   "cell_type": "code",
   "execution_count": 3,
   "metadata": {},
   "outputs": [
    {
     "name": "stdout",
     "output_type": "stream",
     "text": [
      "                                                   0  \\\n",
      "0  [[[109, 112, 106], [154, 158, 151], [153, 157,...   \n",
      "1  [[[108, 111, 105], [153, 156, 150], [152, 156,...   \n",
      "2  [[[108, 111, 104], [152, 156, 149], [151, 156,...   \n",
      "3  [[[108, 111, 105], [152, 156, 149], [151, 155,...   \n",
      "4  [[[108, 111, 105], [152, 156, 149], [151, 155,...   \n",
      "\n",
      "                             1  \n",
      "0  [0, 0, 0, 0, 0, 0, 0, 0, 0]  \n",
      "1  [0, 0, 0, 0, 0, 0, 0, 0, 0]  \n",
      "2  [0, 0, 0, 0, 0, 0, 0, 0, 0]  \n",
      "3  [0, 0, 0, 0, 0, 0, 0, 0, 0]  \n",
      "4  [0, 0, 0, 0, 0, 0, 0, 0, 0]  \n"
     ]
    }
   ],
   "source": [
    "train_data = np.load(\"training_data.npy\", allow_pickle=True)\n",
    "\n",
    "df = pd.DataFrame(train_data)\n",
    "print(df.head())"
   ]
  },
  {
   "cell_type": "code",
   "execution_count": null,
   "metadata": {},
   "outputs": [],
   "source": []
  }
 ],
 "metadata": {
  "kernelspec": {
   "display_name": ".venv",
   "language": "python",
   "name": "python3"
  },
  "language_info": {
   "codemirror_mode": {
    "name": "ipython",
    "version": 3
   },
   "file_extension": ".py",
   "mimetype": "text/x-python",
   "name": "python",
   "nbconvert_exporter": "python",
   "pygments_lexer": "ipython3",
   "version": "3.11.1"
  }
 },
 "nbformat": 4,
 "nbformat_minor": 2
}
