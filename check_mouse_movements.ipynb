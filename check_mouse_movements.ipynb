{
 "cells": [
  {
   "cell_type": "code",
   "execution_count": 1,
   "metadata": {},
   "outputs": [
    {
     "name": "stderr",
     "output_type": "stream",
     "text": [
      "C:\\Users\\Нурислам\\AppData\\Local\\Temp\\ipykernel_15132\\2162656668.py:1: DeprecationWarning: \n",
      "Pyarrow will become a required dependency of pandas in the next major release of pandas (pandas 3.0),\n",
      "(to allow more performant data types, such as the Arrow string type, and better interoperability with other libraries)\n",
      "but was not found to be installed on your system.\n",
      "If this would cause problems for you,\n",
      "please provide us feedback at https://github.com/pandas-dev/pandas/issues/54466\n",
      "        \n",
      "  import pandas as pd\n"
     ]
    }
   ],
   "source": [
    "import pandas as pd\n",
    "import numpy as np"
   ]
  },
  {
   "cell_type": "code",
   "execution_count": 2,
   "metadata": {},
   "outputs": [
    {
     "data": {
      "text/plain": [
       "(110000, 2)"
      ]
     },
     "execution_count": 2,
     "metadata": {},
     "output_type": "execute_result"
    }
   ],
   "source": [
    "train_data = np.load(\"training_data.npy\", allow_pickle=True)\n",
    "train_data.shape"
   ]
  },
  {
   "cell_type": "code",
   "execution_count": 3,
   "metadata": {},
   "outputs": [],
   "source": [
    "df = pd.DataFrame(train_data)"
   ]
  },
  {
   "cell_type": "code",
   "execution_count": null,
   "metadata": {},
   "outputs": [
    {
     "data": {
      "text/html": [
       "<div>\n",
       "<style scoped>\n",
       "    .dataframe tbody tr th:only-of-type {\n",
       "        vertical-align: middle;\n",
       "    }\n",
       "\n",
       "    .dataframe tbody tr th {\n",
       "        vertical-align: top;\n",
       "    }\n",
       "\n",
       "    .dataframe thead th {\n",
       "        text-align: right;\n",
       "    }\n",
       "</style>\n",
       "<table border=\"1\" class=\"dataframe\">\n",
       "  <thead>\n",
       "    <tr style=\"text-align: right;\">\n",
       "      <th></th>\n",
       "      <th>0</th>\n",
       "      <th>1</th>\n",
       "    </tr>\n",
       "  </thead>\n",
       "  <tbody>\n",
       "    <tr>\n",
       "      <th>0</th>\n",
       "      <td>[[[109, 112, 106], [154, 158, 151], [153, 157,...</td>\n",
       "      <td>[0, 0, 0, 0, 0, 0, 0, 0, 0]</td>\n",
       "    </tr>\n",
       "    <tr>\n",
       "      <th>1</th>\n",
       "      <td>[[[108, 111, 105], [153, 156, 150], [152, 156,...</td>\n",
       "      <td>[0, 0, 0, 0, 0, 0, 0, 0, 0]</td>\n",
       "    </tr>\n",
       "    <tr>\n",
       "      <th>2</th>\n",
       "      <td>[[[108, 111, 104], [152, 156, 149], [151, 156,...</td>\n",
       "      <td>[0, 0, 0, 0, 0, 0, 0, 0, 0]</td>\n",
       "    </tr>\n",
       "    <tr>\n",
       "      <th>3</th>\n",
       "      <td>[[[108, 111, 105], [152, 156, 149], [151, 155,...</td>\n",
       "      <td>[0, 0, 0, 0, 0, 0, 0, 0, 0]</td>\n",
       "    </tr>\n",
       "    <tr>\n",
       "      <th>4</th>\n",
       "      <td>[[[108, 111, 105], [152, 156, 149], [151, 155,...</td>\n",
       "      <td>[0, 0, 0, 0, 0, 0, 0, 0, 0]</td>\n",
       "    </tr>\n",
       "    <tr>\n",
       "      <th>...</th>\n",
       "      <td>...</td>\n",
       "      <td>...</td>\n",
       "    </tr>\n",
       "    <tr>\n",
       "      <th>109995</th>\n",
       "      <td>[[[39, 40, 31], [43, 45, 36], [53, 56, 45], [4...</td>\n",
       "      <td>[0, 0, 0, 0, 0, 0, 0, 0, 0]</td>\n",
       "    </tr>\n",
       "    <tr>\n",
       "      <th>109996</th>\n",
       "      <td>[[[47, 50, 40], [44, 47, 37], [47, 48, 38], [4...</td>\n",
       "      <td>[0, 0, 0, 0, 0, 0, 0, 0, 0]</td>\n",
       "    </tr>\n",
       "    <tr>\n",
       "      <th>109997</th>\n",
       "      <td>[[[62, 63, 52], [56, 58, 47], [44, 46, 35], [4...</td>\n",
       "      <td>[0, 0, 0, 0, 0, 0, 0, 0, 0]</td>\n",
       "    </tr>\n",
       "    <tr>\n",
       "      <th>109998</th>\n",
       "      <td>[[[48, 52, 42], [38, 41, 31], [45, 48, 38], [6...</td>\n",
       "      <td>[0, 0, 0, 0, 0, 0, 0, 0, 0]</td>\n",
       "    </tr>\n",
       "    <tr>\n",
       "      <th>109999</th>\n",
       "      <td>[[[29, 40, 33], [36, 47, 39], [68, 74, 59], [6...</td>\n",
       "      <td>[0, 0, 0, 0, 0, 0, 0, 0, 0]</td>\n",
       "    </tr>\n",
       "  </tbody>\n",
       "</table>\n",
       "<p>110000 rows × 2 columns</p>\n",
       "</div>"
      ],
      "text/plain": [
       "                                                        0  \\\n",
       "0       [[[109, 112, 106], [154, 158, 151], [153, 157,...   \n",
       "1       [[[108, 111, 105], [153, 156, 150], [152, 156,...   \n",
       "2       [[[108, 111, 104], [152, 156, 149], [151, 156,...   \n",
       "3       [[[108, 111, 105], [152, 156, 149], [151, 155,...   \n",
       "4       [[[108, 111, 105], [152, 156, 149], [151, 155,...   \n",
       "...                                                   ...   \n",
       "109995  [[[39, 40, 31], [43, 45, 36], [53, 56, 45], [4...   \n",
       "109996  [[[47, 50, 40], [44, 47, 37], [47, 48, 38], [4...   \n",
       "109997  [[[62, 63, 52], [56, 58, 47], [44, 46, 35], [4...   \n",
       "109998  [[[48, 52, 42], [38, 41, 31], [45, 48, 38], [6...   \n",
       "109999  [[[29, 40, 33], [36, 47, 39], [68, 74, 59], [6...   \n",
       "\n",
       "                                  1  \n",
       "0       [0, 0, 0, 0, 0, 0, 0, 0, 0]  \n",
       "1       [0, 0, 0, 0, 0, 0, 0, 0, 0]  \n",
       "2       [0, 0, 0, 0, 0, 0, 0, 0, 0]  \n",
       "3       [0, 0, 0, 0, 0, 0, 0, 0, 0]  \n",
       "4       [0, 0, 0, 0, 0, 0, 0, 0, 0]  \n",
       "...                             ...  \n",
       "109995  [0, 0, 0, 0, 0, 0, 0, 0, 0]  \n",
       "109996  [0, 0, 0, 0, 0, 0, 0, 0, 0]  \n",
       "109997  [0, 0, 0, 0, 0, 0, 0, 0, 0]  \n",
       "109998  [0, 0, 0, 0, 0, 0, 0, 0, 0]  \n",
       "109999  [0, 0, 0, 0, 0, 0, 0, 0, 0]  \n",
       "\n",
       "[110000 rows x 2 columns]"
      ]
     },
     "execution_count": 53,
     "metadata": {},
     "output_type": "execute_result"
    }
   ],
   "source": [
    "df"
   ]
  },
  {
   "cell_type": "code",
   "execution_count": null,
   "metadata": {},
   "outputs": [
    {
     "name": "stdout",
     "output_type": "stream",
     "text": [
      "0\n"
     ]
    }
   ],
   "source": [
    "count = 0\n",
    "for i in range(len(df)):\n",
    "    if df[1][i][5]:\n",
    "        count += 1\n",
    "print(count) # left clicks\n"
   ]
  },
  {
   "cell_type": "code",
   "execution_count": 4,
   "metadata": {},
   "outputs": [],
   "source": [
    "Xses = []\n",
    "Yses = []\n",
    "for i in range(len(df)):\n",
    "    Xses.append(df[1][i][-2])\n",
    "    Yses.append(df[1][i][-1])"
   ]
  },
  {
   "cell_type": "code",
   "execution_count": 5,
   "metadata": {},
   "outputs": [],
   "source": [
    "data_x = []\n",
    "data_y = []\n",
    "\n",
    "for i in range(len(df)):\n",
    "    data_x.append(df[1][i][-2])\n",
    "\n",
    "    data_y.append(df[1][i][-1])"
   ]
  },
  {
   "cell_type": "code",
   "execution_count": 6,
   "metadata": {},
   "outputs": [],
   "source": [
    "Xses_binary = []\n",
    "for i in data_x:\n",
    "    if i < 0:\n",
    "        Xses_binary.append([1,0]) # cursor moves left\n",
    "    elif i > 0:\n",
    "        Xses_binary.append([0,1]) # cursor moves right\n",
    "    else:\n",
    "        Xses_binary.append([0,0]) # no horizontal movement"
   ]
  },
  {
   "cell_type": "code",
   "execution_count": 7,
   "metadata": {},
   "outputs": [],
   "source": [
    "Yses_binary = []\n",
    "for i in data_y:\n",
    "    if i < 0:\n",
    "        Yses_binary.append([1,0]) # cursor moves up\n",
    "    elif i > 0:\n",
    "        Yses_binary.append([0,1]) # cursor moves down\n",
    "    else:\n",
    "        Yses_binary.append([0,0]) # no vertical movement"
   ]
  },
  {
   "cell_type": "code",
   "execution_count": 8,
   "metadata": {},
   "outputs": [
    {
     "name": "stderr",
     "output_type": "stream",
     "text": [
      "C:\\Users\\Нурислам\\AppData\\Local\\Temp\\ipykernel_3508\\1406189952.py:2: FutureWarning: ChainedAssignmentError: behaviour will change in pandas 3.0!\n",
      "You are setting values through chained assignment. Currently this works in certain cases, but when using Copy-on-Write (which will become the default behaviour in pandas 3.0) this will never work to update the original DataFrame or Series, because the intermediate object on which we are setting values will behave as a copy.\n",
      "A typical example is when you are setting values in a column of a DataFrame, like:\n",
      "\n",
      "df[\"col\"][row_indexer] = value\n",
      "\n",
      "Use `df.loc[row_indexer, \"col\"] = values` instead, to perform the assignment in a single step and ensure this keeps updating the original `df`.\n",
      "\n",
      "See the caveats in the documentation: https://pandas.pydata.org/pandas-docs/stable/user_guide/indexing.html#returning-a-view-versus-a-copy\n",
      "\n",
      "  df[1][i] = df[1][i][:-2] + Xses_binary[i] + Yses_binary[i]\n"
     ]
    }
   ],
   "source": [
    "for i in range(len(df)):\n",
    "    df[1][i] = df[1][i][:-2] + Xses_binary[i] + Yses_binary[i]"
   ]
  },
  {
   "cell_type": "code",
   "execution_count": 48,
   "metadata": {},
   "outputs": [
    {
     "data": {
      "text/plain": [
       "0         [0, 0, 0, 0, 0, 0, 0, 0, 0, 0, 0]\n",
       "1         [0, 0, 0, 0, 0, 0, 0, 0, 0, 0, 0]\n",
       "2         [0, 0, 0, 0, 0, 0, 0, 0, 0, 0, 0]\n",
       "3         [0, 0, 0, 0, 0, 0, 0, 0, 0, 0, 0]\n",
       "4         [0, 0, 0, 0, 0, 0, 0, 0, 0, 0, 0]\n",
       "                        ...                \n",
       "109995    [0, 0, 0, 0, 0, 0, 0, 0, 0, 0, 0]\n",
       "109996    [0, 0, 0, 0, 0, 0, 0, 0, 0, 0, 0]\n",
       "109997    [0, 0, 0, 0, 0, 0, 0, 0, 0, 0, 0]\n",
       "109998    [0, 0, 0, 0, 0, 0, 0, 0, 0, 0, 0]\n",
       "109999    [0, 0, 0, 0, 0, 0, 0, 0, 0, 0, 0]\n",
       "Name: 1, Length: 110000, dtype: object"
      ]
     },
     "execution_count": 48,
     "metadata": {},
     "output_type": "execute_result"
    }
   ],
   "source": [
    "df[1]"
   ]
  },
  {
   "cell_type": "code",
   "execution_count": 9,
   "metadata": {},
   "outputs": [],
   "source": [
    "for i in range(len(df)):\n",
    "    del df[1][i][4]"
   ]
  },
  {
   "cell_type": "code",
   "execution_count": 10,
   "metadata": {},
   "outputs": [],
   "source": [
    "for i in range(len(df)):\n",
    "    del df[1][i][5]"
   ]
  },
  {
   "cell_type": "code",
   "execution_count": 11,
   "metadata": {},
   "outputs": [
    {
     "data": {
      "text/plain": [
       "[26782, 8350, 5377, 7573, 5778, 12179, 14041, 6681, 6381]"
      ]
     },
     "execution_count": 11,
     "metadata": {},
     "output_type": "execute_result"
    }
   ],
   "source": [
    "counts = []\n",
    "for i in range(9):\n",
    "    count = 0\n",
    "    for j in range(len(df)):\n",
    "        if df[1][j][i]:\n",
    "            count += 1\n",
    "    counts.append(count)\n",
    "counts"
   ]
  },
  {
   "cell_type": "code",
   "execution_count": 23,
   "metadata": {},
   "outputs": [
    {
     "data": {
      "text/plain": [
       "[0, 0, 0, 0, 0, 0, 0, 0, 0]"
      ]
     },
     "execution_count": 23,
     "metadata": {},
     "output_type": "execute_result"
    }
   ],
   "source": [
    "df[1][0]"
   ]
  },
  {
   "cell_type": "code",
   "execution_count": 12,
   "metadata": {},
   "outputs": [],
   "source": [
    "df_numpy = df.to_numpy()"
   ]
  },
  {
   "cell_type": "code",
   "execution_count": 13,
   "metadata": {},
   "outputs": [],
   "source": [
    "np.save(\"training_data_v2.npy\", df_numpy)"
   ]
  },
  {
   "cell_type": "code",
   "execution_count": 30,
   "metadata": {},
   "outputs": [],
   "source": [
    "counts = []\n",
    "for i in range(9):\n",
    "    count = 0\n",
    "    for j in range(len(df)):\n",
    "        if df[1][j][i]:\n",
    "            count += 1\n",
    "    counts.append(count)"
   ]
  },
  {
   "cell_type": "code",
   "execution_count": 32,
   "metadata": {},
   "outputs": [
    {
     "data": {
      "text/plain": [
       "[26782, 8350, 5377, 7573, 5778, 33, 14041, 6681, 6381]"
      ]
     },
     "execution_count": 32,
     "metadata": {},
     "output_type": "execute_result"
    }
   ],
   "source": [
    "counts"
   ]
  },
  {
   "cell_type": "code",
   "execution_count": 2,
   "metadata": {},
   "outputs": [
    {
     "data": {
      "text/plain": [
       "(24552, 2)"
      ]
     },
     "execution_count": 2,
     "metadata": {},
     "output_type": "execute_result"
    }
   ],
   "source": [
    "train_data = np.load(\"training_data_v3.npy\", allow_pickle=True)\n",
    "train_data.shape"
   ]
  },
  {
   "cell_type": "code",
   "execution_count": null,
   "metadata": {},
   "outputs": [],
   "source": []
  },
  {
   "cell_type": "code",
   "execution_count": null,
   "metadata": {},
   "outputs": [],
   "source": []
  }
 ],
 "metadata": {
  "kernelspec": {
   "display_name": ".venv",
   "language": "python",
   "name": "python3"
  },
  "language_info": {
   "codemirror_mode": {
    "name": "ipython",
    "version": 3
   },
   "file_extension": ".py",
   "mimetype": "text/x-python",
   "name": "python",
   "nbconvert_exporter": "python",
   "pygments_lexer": "ipython3",
   "version": "3.11.1"
  }
 },
 "nbformat": 4,
 "nbformat_minor": 2
}
